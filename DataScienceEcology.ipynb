{
 "cells": [
  {
   "cell_type": "markdown",
   "id": "47507a59-a040-41fe-85bb-51513fab4295",
   "metadata": {},
   "source": [
    "Data Science Tools And Ecosystem"
   ]
  },
  {
   "cell_type": "markdown",
   "id": "1f703d51-dfa8-4b04-ac91-32ebf6edf8fb",
   "metadata": {},
   "source": [
    "In This Notebook Data Science Tools And Ecosystem Are Summarised"
   ]
  },
  {
   "cell_type": "markdown",
   "id": "33b55b31-eaf5-4609-b4eb-c1ac8a1d06c5",
   "metadata": {},
   "source": [
    "objectives covered\n",
    "OBJECTIVES:list of popular data sciencetist langauges, commonly used libraries ,simple arithemetrics expression ,conversions"
   ]
  },
  {
   "cell_type": "markdown",
   "id": "b79bca71-6f01-4d3e-a08e-13a6e66f0a81",
   "metadata": {},
   "source": [
    "       Some of the popular languages that Data Scientists use are:"
   ]
  },
  {
   "cell_type": "markdown",
   "id": "31e0e155-5d18-438d-86b5-300a2ba24ddf",
   "metadata": {},
   "source": [
    "1.python\n",
    "2.sql\n",
    "3.javascript\n",
    "4.R"
   ]
  },
  {
   "cell_type": "markdown",
   "id": "b55fcdda-9670-4b2a-9840-f63cff757cf4",
   "metadata": {},
   "source": [
    "        Some of the commonly used libraries used by Data Scientists include:"
   ]
  },
  {
   "cell_type": "markdown",
   "id": "b0e956bc-cb63-41c2-9b22-91be990b0f72",
   "metadata": {},
   "source": [
    "1.numpy 2.pandas 3.matplotib 4.scikit-learn "
   ]
  },
  {
   "cell_type": "markdown",
   "id": "49b26412-a3d8-4673-b680-679f54017c60",
   "metadata": {},
   "source": [
    "|Datasciencetools|\n",
    "|----------------|\n",
    "|Jupiter notebook|\n",
    "|pytorch|\n",
    "|mlflow|"
   ]
  },
  {
   "cell_type": "markdown",
   "id": "bb3252ae-4284-4299-859c-8628bdcdf436",
   "metadata": {},
   "source": [
    "Below are a few examples of evaluating arithmetic expressions in Python"
   ]
  },
  {
   "cell_type": "code",
   "execution_count": null,
   "id": "dc930e94-1e6c-46d1-a205-958f6ff1d441",
   "metadata": {},
   "outputs": [],
   "source": [
    "This a simple arithmetic expression to mutiply then add integers."
   ]
  },
  {
   "cell_type": "code",
   "execution_count": 17,
   "id": "11a81613-8a77-409a-afc8-8cdf9b939e40",
   "metadata": {},
   "outputs": [
    {
     "data": {
      "text/plain": [
       "17"
      ]
     },
     "execution_count": 17,
     "metadata": {},
     "output_type": "execute_result"
    }
   ],
   "source": [
    "(3*4)+5"
   ]
  },
  {
   "cell_type": "code",
   "execution_count": null,
   "id": "5310c191-65d9-44d3-8bd9-979edd11ba57",
   "metadata": {},
   "outputs": [],
   "source": [
    "converting 200 minutes into hours"
   ]
  },
  {
   "cell_type": "code",
   "execution_count": null,
   "id": "ea584b98-1141-42e3-826d-0e6a7eaab6a5",
   "metadata": {},
   "outputs": [],
   "source": [
    "This will convert 200 minutes to hours by diving by 60"
   ]
  },
  {
   "cell_type": "code",
   "execution_count": 25,
   "id": "a2ab1257-6b04-4052-be79-17f1e0768aca",
   "metadata": {},
   "outputs": [
    {
     "data": {
      "text/plain": [
       "3.3333333333333335"
      ]
     },
     "execution_count": 25,
     "metadata": {},
     "output_type": "execute_result"
    }
   ],
   "source": [
    "200/60"
   ]
  },
  {
   "cell_type": "markdown",
   "id": "6c958a8d-eed1-4d31-a0b6-51aaeb97f8b8",
   "metadata": {},
   "source": [
    "AUTHOR \n",
    "\n",
    "GODWIN DANIEL"
   ]
  },
  {
   "cell_type": "code",
   "execution_count": null,
   "id": "14598162-484b-4392-bcfd-f07edea87a68",
   "metadata": {},
   "outputs": [],
   "source": []
  }
 ],
 "metadata": {
  "kernelspec": {
   "display_name": "Python 3 (ipykernel)",
   "language": "python",
   "name": "python3"
  },
  "language_info": {
   "codemirror_mode": {
    "name": "ipython",
    "version": 3
   },
   "file_extension": ".py",
   "mimetype": "text/x-python",
   "name": "python",
   "nbconvert_exporter": "python",
   "pygments_lexer": "ipython3",
   "version": "3.12.4"
  }
 },
 "nbformat": 4,
 "nbformat_minor": 5
}
